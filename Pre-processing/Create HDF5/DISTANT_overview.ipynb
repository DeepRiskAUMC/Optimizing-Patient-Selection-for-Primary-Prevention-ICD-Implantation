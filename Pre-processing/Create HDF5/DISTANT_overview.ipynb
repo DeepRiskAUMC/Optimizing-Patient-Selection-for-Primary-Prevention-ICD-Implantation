{
 "cells": [
  {
   "cell_type": "code",
   "execution_count": 1,
   "metadata": {},
   "outputs": [],
   "source": [
    "import pandas as pd\n",
    "from pathlib import Path\n",
    "import numpy as np"
   ]
  },
  {
   "cell_type": "code",
   "execution_count": 2,
   "metadata": {},
   "outputs": [
    {
     "name": "stdout",
     "output_type": "stream",
     "text": [
      "920\n"
     ]
    }
   ],
   "source": [
    "clinical_csv_path = Path(r'H:\\Data\\DR_AMC_data\\DEEPRISK-DISTANT-database.csv')\n",
    "clinical_df = pd.read_csv(clinical_csv_path, sep=';')\n",
    "clinical_df = clinical_df.loc[clinical_df['Full_data'] == 'Yes']\n",
    "print(len(clinical_df))"
   ]
  },
  {
   "cell_type": "code",
   "execution_count": 3,
   "metadata": {},
   "outputs": [
    {
     "name": "stdout",
     "output_type": "stream",
     "text": [
      "     PatientID      MDN\n",
      "0            2  7815921\n",
      "1           17  1626078\n",
      "2           18  5894954\n",
      "3           60  3979798\n",
      "4           77  4716124\n",
      "..         ...      ...\n",
      "915      26220  1938777\n",
      "916      26231  8638944\n",
      "917      26433  1848390\n",
      "918      27393  1928761\n",
      "919      27422  7866446\n",
      "\n",
      "[920 rows x 2 columns]\n",
      "     PatientID      MDN      DRAUMC\n",
      "0            2  7815921  DRAUMC2807\n",
      "1           17  1626078  DRAUMC2392\n",
      "2           18  5894954  DRAUMC2203\n",
      "3           60  3979798  DRAUMC2801\n",
      "4           77  4716124  DRAUMC2407\n",
      "..         ...      ...         ...\n",
      "915      26220  1938777  DRAUMC2853\n",
      "916      26231  8638944  DRAUMC2673\n",
      "917      26433  1848390  DRAUMC2562\n",
      "918      27393  1928761  DRAUMC2873\n",
      "919      27422  7866446  DRAUMC2821\n",
      "\n",
      "[920 rows x 3 columns]\n"
     ]
    }
   ],
   "source": [
    "pid_mdn_df = pd.read_csv(r'H:\\Data\\DR_AMC_data\\KEYFILE_SELECTED.csv')\n",
    "pid_to_mdn = {row['PatientID']: row['MDN'] for _, row in pid_mdn_df.iterrows()}\n",
    "\n",
    "mdn_draumc_df = pd.read_excel(r'H:\\Data\\DR_AMC_data\\MDN_TO_PATIENTID.xlsx', header=None)\n",
    "mdn_to_draumc = {row[0]: row[1] for _, row in mdn_draumc_df.iterrows()}\n",
    "\n",
    "max_draumc = np.max([int(draumc[-4:]) for draumc in mdn_to_draumc.values()])\n",
    "\n",
    "pid_to_draumc = {}\n",
    "for pid, mdn in pid_to_mdn.items():\n",
    "    if mdn in mdn_to_draumc:\n",
    "        pid_to_draumc[pid] = mdn_to_draumc[mdn]\n",
    "    else:\n",
    "        max_draumc += 1\n",
    "        draumc = f'DRAUMC{max_draumc:04d}'\n",
    "        pid_to_draumc[pid] = draumc\n",
    "\n",
    "print(pid_mdn_df)\n",
    "pid_mdn_draumc_df = pid_mdn_df.copy()\n",
    "pid_mdn_draumc_df['DRAUMC'] = pid_mdn_draumc_df['PatientID'].map(pid_to_draumc)\n",
    "print(pid_mdn_draumc_df)\n",
    "pid_mdn_draumc_df.to_excel(r'H:\\Data\\DR_AMC_data\\DISTANT_DR_KEYFILE.xlsx', index=False)\n",
    "\n",
    "clinical_df['Patientnumber'] = clinical_df['Patientnumber'].map(pid_to_draumc)\n",
    "clinical_df.to_csv(r'H:\\Data\\DR_AMC_data\\DR_DISTANT_clinical.csv', index=False)"
   ]
  },
  {
   "cell_type": "code",
   "execution_count": 4,
   "metadata": {},
   "outputs": [
    {
     "name": "stdout",
     "output_type": "stream",
     "text": [
      "            Filename   PatientID  LastName AcquisitionDate AcquisitionTime  \\\n",
      "0       DRAUMC2000_1  DRAUMC2000       NaN      10-21-2011        10:11:38   \n",
      "1       DRAUMC2001_1  DRAUMC2001       NaN      09-24-2013        09:52:46   \n",
      "2       DRAUMC2002_1  DRAUMC2002       NaN      06-12-2014        14:38:16   \n",
      "3       DRAUMC2003_1  DRAUMC2003       NaN      07-09-2012        00:20:34   \n",
      "4       DRAUMC2004_1  DRAUMC2004       NaN      10-03-2012        11:13:00   \n",
      "...              ...         ...       ...             ...             ...   \n",
      "16053   DRAUMC2699_6  DRAUMC2699       NaN      10-06-2016        13:40:33   \n",
      "16054  DRAUMC2362_79  DRAUMC2362       NaN      10-13-2017        10:07:24   \n",
      "16055  DRAUMC2078_49  DRAUMC2078       NaN      02-01-2017        16:16:32   \n",
      "16056  DRAUMC2200_80  DRAUMC2200       NaN      12-20-2016        13:59:39   \n",
      "16057  DRAUMC2062_28  DRAUMC2062       NaN      12-30-2020        14:19:17   \n",
      "\n",
      "      SiteName  PatientAge AgeUnits  Gender  Height  ...  QTInterval  \\\n",
      "0          AMC          49    YEARS    MALE   187.0  ...       426.0   \n",
      "1          AMC          69    YEARS  FEMALE   166.0  ...       450.0   \n",
      "2          AMC          54    YEARS    MALE   179.0  ...       414.0   \n",
      "3          AMC          20    YEARS    MALE     NaN  ...       386.0   \n",
      "4          AMC          11    YEARS  FEMALE     NaN  ...       444.0   \n",
      "...        ...         ...      ...     ...     ...  ...         ...   \n",
      "16053      AMC          74    YEARS    MALE   170.0  ...       392.0   \n",
      "16054      AMC          75    YEARS  FEMALE   176.0  ...       472.0   \n",
      "16055      AMC          36    YEARS  FEMALE   168.0  ...       406.0   \n",
      "16056      AMC          77    YEARS  FEMALE   151.0  ...       526.0   \n",
      "16057      AMC          77    YEARS    MALE     NaN  ...       364.0   \n",
      "\n",
      "      QTCorrected PAxis  RAxis  TAxis  QRSCount  ECGSampleBase  SystolicBP  \\\n",
      "0           541.0   NaN   -5.0   18.0      16.0            500         NaN   \n",
      "1           471.0 -70.0  -70.0  110.0      11.0            500       121.0   \n",
      "2           471.0  54.0  171.0   25.0      13.0            500       128.0   \n",
      "3           395.0  73.0   54.0   58.0      10.0            500         NaN   \n",
      "4           412.0   8.0   81.0  -18.0       9.0            500         NaN   \n",
      "...           ...   ...    ...    ...       ...            ...         ...   \n",
      "16053       460.0   NaN   37.0  128.0      14.0            500       135.0   \n",
      "16054       459.0  42.0  -26.0   50.0      10.0            500         NaN   \n",
      "16055       418.0  47.0   53.0   59.0      10.0            500         NaN   \n",
      "16056       526.0   NaN  -86.0   44.0      10.0            500       120.0   \n",
      "16057       411.0  63.0   58.0   43.0      13.0            500         NaN   \n",
      "\n",
      "       DiastolicBP  AcquisitionDevice  \n",
      "0              NaN              MAC5K  \n",
      "1             74.0              MAC5K  \n",
      "2            112.0              MAC55  \n",
      "3              NaN              MAC5K  \n",
      "4              NaN              MAC5K  \n",
      "...            ...                ...  \n",
      "16053         78.0               CSYS  \n",
      "16054          NaN              MAC55  \n",
      "16055          NaN              MAC55  \n",
      "16056         80.0               CSYS  \n",
      "16057          NaN              MAC55  \n",
      "\n",
      "[16058 rows x 28 columns]\n"
     ]
    }
   ],
   "source": [
    "ecg_csv_path = Path(r'H:\\Data\\DR_AMC_data\\studyIDpatientID.csv')\n",
    "\n",
    "df = pd.read_csv(ecg_csv_path)\n",
    "print(df)"
   ]
  },
  {
   "cell_type": "code",
   "execution_count": 45,
   "metadata": {},
   "outputs": [],
   "source": [
    "import numpy as np"
   ]
  },
  {
   "cell_type": "code",
   "execution_count": 69,
   "metadata": {},
   "outputs": [],
   "source": [
    "def calc_days_before_implant(ecg_df, clinical_df):\n",
    "    \"\"\"\n",
    "    Calculates the number of days between ICD implantation date and ECG recording.\n",
    "\n",
    "    Args:\n",
    "        ecg_df (pandas.DataFrame): DataFrame object with columns 'StudyDate' and\n",
    "            'PatientID' for all ECGs.\n",
    "        clinical_df (pandas.DataFrame): DataFrame object with columns 'SubjectID'\n",
    "            and 'Date_ICD_implantatie' for all patients\n",
    "\n",
    "    Returns:\n",
    "        pandas.Series: Column with number of days untill ICD implantation date\n",
    "            for each ECG.\n",
    "    \"\"\"\n",
    "    # Get the implantation dates\n",
    "    implantation_date = clinical_df[['Patientnumber', 'Date_of_implantation']].set_index('Patientnumber')\n",
    "    implantation_date['Date_of_implantation'] = pd.to_datetime(implantation_date['Date_of_implantation'])\n",
    "    implantation_dict = implantation_date.to_dict()['Date_of_implantation']\n",
    "    # Get the ECG study dates\n",
    "    ecg_dates = pd.to_datetime(ecg_df['AcquisitionDate'], format='%m-%d-%Y')\n",
    "    # Calculate the time between implantation and ECG study\n",
    "    ecg_time_before_implant = ecg_df['PatientID'].map(implantation_dict) - ecg_dates\n",
    "    # Convert time to integer number of days\n",
    "    ecg_time_before_implant = ecg_time_before_implant.apply(lambda x: x.days)\n",
    "    return ecg_time_before_implant\n",
    "\n",
    "def dict_fill_defaults(dictionary, keys, default=0):\n",
    "    \"\"\"\n",
    "    Fills a dictionary with default value for each key in 'keys' that is not\n",
    "        present.\n",
    "\n",
    "    Args:\n",
    "        dictionary (dict): Dictionary to be filled.\n",
    "        keys (iterable): Keys which must either be present in dictionary or which\n",
    "            should otherwise be added with a default value.\n",
    "        default: Any hashable type that serves as default value.\n",
    "\n",
    "    Returns:\n",
    "        dictionary: Filled dictionary.\n",
    "    \"\"\"\n",
    "    filled_dict = {key: dictionary.get(key, default) for key in keys}\n",
    "    return filled_dict\n",
    "\n",
    "def merge_ecg_and_clinical_df(ecg_df, clinical_df):\n",
    "    \"\"\"\n",
    "    Extends a copy of 'clinical_df' with information regarding number of\n",
    "        available ECGs for each patient.\n",
    "\n",
    "    Args:\n",
    "        ecg_df (pandas.DataFrame): DataFrame object with columns 'StudyDate' and\n",
    "            'PatientID' for all ECGs.\n",
    "        clinical_df (pandas.DataFrame): DataFrame object with columns 'SubjectID'\n",
    "            and 'Date_ICD_implantatie' for all patients\n",
    "\n",
    "    Returns:\n",
    "        pandas.DataFrame: Extended copy of 'clinical_df'.\n",
    "    \"\"\"\n",
    "    merged_df = clinical_df\n",
    "    # Add the total number of ECGs per patient\n",
    "    num_ecgs = ecg_df['PatientID'].value_counts().to_dict()\n",
    "    merged_df['NumEcgsTotal'] = clinical_df['Patientnumber'].map(num_ecgs)\n",
    "    \n",
    "    # Add the number of ECGs per patient prior to ICD implantation\n",
    "    ecg_time_before_implant = calc_days_before_implant(ecg_df, clinical_df)  \n",
    "    num_ecgs = ecg_df.loc[ecg_time_before_implant > 0]['PatientID'].value_counts().to_dict()\n",
    "    num_ecgs = dict_fill_defaults(num_ecgs, clinical_df['Patientnumber'])\n",
    "    merged_df['NumEcgsBeforeImplant'] = clinical_df['Patientnumber'].map(num_ecgs)\n",
    "    \n",
    "    # Add the number of ECGs per patient after ICD implantation\n",
    "    num_ecgs = ecg_df.loc[ecg_time_before_implant < 0]['PatientID'].value_counts().to_dict()\n",
    "    num_ecgs = dict_fill_defaults(num_ecgs, clinical_df['Patientnumber'])\n",
    "    merged_df['NumEcgsAfterImplant'] = clinical_df['Patientnumber'].map(num_ecgs)\n",
    "    \n",
    "    # Add the number of ECGs per patient on the day of implantation\n",
    "    num_ecgs = ecg_df.loc[ecg_time_before_implant == 0]['PatientID'].value_counts().to_dict()\n",
    "    num_ecgs = dict_fill_defaults(num_ecgs, clinical_df['Patientnumber'])\n",
    "    merged_df['NumEcgsOnImplantDay'] = clinical_df['Patientnumber'].map(num_ecgs)\n",
    "    return merged_df"
   ]
  },
  {
   "cell_type": "code",
   "execution_count": 70,
   "metadata": {},
   "outputs": [
    {
     "name": "stdout",
     "output_type": "stream",
     "text": [
      "920\n",
      "917\n"
     ]
    }
   ],
   "source": [
    "ecg_df = pd.read_csv(r'H:\\Data\\DR_AMC_data\\Complete_data\\DR_DISTANT_ecgs.csv')\n",
    "clinical_df = pd.read_csv(r'H:\\Data\\DR_AMC_data\\Complete_data\\DR_DISTANT_clinical.csv')\n",
    "print(len(clinical_df))\n",
    "clinical_df = clinical_df[clinical_df['Date_of_implantation'] != ' ']\n",
    "print(len(clinical_df))"
   ]
  },
  {
   "cell_type": "code",
   "execution_count": 71,
   "metadata": {},
   "outputs": [],
   "source": [
    "merged_df = merge_ecg_and_clinical_df(ecg_df, clinical_df)"
   ]
  },
  {
   "cell_type": "code",
   "execution_count": 72,
   "metadata": {},
   "outputs": [
    {
     "name": "stdout",
     "output_type": "stream",
     "text": [
      "    Patientnumber Date_of_birth  Gender Age_above_18 Full_data  \\\n",
      "0      DRAUMC2807      1/8/1937    Male                    Yes   \n",
      "1      DRAUMC2392      7/4/1984    Male                    Yes   \n",
      "2      DRAUMC2203     5/21/1966    Male                    Yes   \n",
      "3      DRAUMC2801    12/12/1945    Male                    Yes   \n",
      "4      DRAUMC2407     7/12/1956    Male                    Yes   \n",
      "..            ...           ...     ...          ...       ...   \n",
      "915    DRAUMC2853     12/3/1966    Male                    Yes   \n",
      "916    DRAUMC2673     10/3/1959    Male                    Yes   \n",
      "917    DRAUMC2562      8/7/1974    Male                    Yes   \n",
      "918    DRAUMC2873      9/3/1957    Male                    Yes   \n",
      "919    DRAUMC2821     7/29/1999  Female                    Yes   \n",
      "\n",
      "    Implantation_indication Date_of_implantation Device_implanted  \\\n",
      "0                                     12/30/2013            CRT-D   \n",
      "1                                     10/22/2010            S-ICD   \n",
      "2                                      1/14/2016           DR-ICD   \n",
      "3                                       2/8/2016           DR-ICD   \n",
      "4                                      3/15/2012            S-ICD   \n",
      "..                      ...                  ...              ...   \n",
      "915                                    1/11/2021           VR-ICD   \n",
      "916                                    1/12/2021           DR-ICD   \n",
      "917      Primary prevention            1/18/2021            CRT-D   \n",
      "918                                    2/18/2021            S-ICD   \n",
      "919      Primary prevention            2/19/2021            S-ICD   \n",
      "\n",
      "                Vendor Date_of_replacement  ... Type_therapy_12  \\\n",
      "0              St Jude                      ...                   \n",
      "1    Boston Scientific           4/13/2017  ...                   \n",
      "2            Biotronik                      ...                   \n",
      "3    Boston Scientific                      ...                   \n",
      "4    Boston Scientific           8/31/2018  ...                   \n",
      "..                 ...                 ...  ...             ...   \n",
      "915                                         ...                   \n",
      "916          Biotronik                      ...                   \n",
      "917          Biotronik                      ...                   \n",
      "918  Boston Scientific                      ...                   \n",
      "919  Boston Scientific                      ...                   \n",
      "\n",
      "    Reason_ICD_therapy_12 More_therapy_than_12       Duration_FU  \\\n",
      "0                                               88,1478439425051   \n",
      "1                                               126,718685831622   \n",
      "2                                               61,8973305954825   \n",
      "3                                               64,6899383983573   \n",
      "4                                                111,70431211499   \n",
      "..                    ...                  ...               ...   \n",
      "915                                             2,82546201232033   \n",
      "916                                             2,85831622176591   \n",
      "917                                             6,27515400410678   \n",
      "918                                             5,19096509240246   \n",
      "919                                             5,22381930184805   \n",
      "\n",
      "    Duration_till_therapy     Time_using_RM NumEcgsTotal NumEcgsBeforeImplant  \\\n",
      "0                          15,9342915811088          6.0                    2   \n",
      "1                          19,1211498973306         12.0                    1   \n",
      "2         19,482546201232  59,7946611909651          9.0                    3   \n",
      "3                          64,6899383983573          5.0                    0   \n",
      "4                          2,95687885010267         30.0                    6   \n",
      "..                    ...               ...          ...                  ...   \n",
      "915       ,75564681724846  2,79260780287474          1.0                    0   \n",
      "916                        2,79260780287474          2.0                    0   \n",
      "917                        6,24229979466119          5.0                    0   \n",
      "918                        4,73100616016427          2.0                    0   \n",
      "919                        3,21971252566735          3.0                    1   \n",
      "\n",
      "    NumEcgsAfterImplant NumEcgsOnImplantDay  \n",
      "0                     4                   0  \n",
      "1                    10                   1  \n",
      "2                     5                   1  \n",
      "3                     4                   1  \n",
      "4                    24                   0  \n",
      "..                  ...                 ...  \n",
      "915                   1                   0  \n",
      "916                   1                   1  \n",
      "917                   4                   1  \n",
      "918                   2                   0  \n",
      "919                   1                   1  \n",
      "\n",
      "[917 rows x 73 columns]\n"
     ]
    }
   ],
   "source": [
    "print(merged_df)"
   ]
  },
  {
   "cell_type": "code",
   "execution_count": 74,
   "metadata": {},
   "outputs": [
    {
     "name": "stdout",
     "output_type": "stream",
     "text": [
      "            Filename   PatientID  LastName AcquisitionDate AcquisitionTime  \\\n",
      "0       DRAUMC2000_1  DRAUMC2000       NaN      10-21-2011        10:11:38   \n",
      "1       DRAUMC2001_1  DRAUMC2001       NaN      09-24-2013        09:52:46   \n",
      "2       DRAUMC2002_1  DRAUMC2002       NaN      06-12-2014        14:38:16   \n",
      "3       DRAUMC2003_1  DRAUMC2003       NaN      07-09-2012        00:20:34   \n",
      "4       DRAUMC2004_1  DRAUMC2004       NaN      10-03-2012        11:13:00   \n",
      "...              ...         ...       ...             ...             ...   \n",
      "16053   DRAUMC2699_6  DRAUMC2699       NaN      10-06-2016        13:40:33   \n",
      "16054  DRAUMC2362_79  DRAUMC2362       NaN      10-13-2017        10:07:24   \n",
      "16055  DRAUMC2078_49  DRAUMC2078       NaN      02-01-2017        16:16:32   \n",
      "16056  DRAUMC2200_80  DRAUMC2200       NaN      12-20-2016        13:59:39   \n",
      "16057  DRAUMC2062_28  DRAUMC2062       NaN      12-30-2020        14:19:17   \n",
      "\n",
      "      SiteName  PatientAge AgeUnits  Gender  Height  ...  QTCorrected PAxis  \\\n",
      "0          AMC          49    YEARS    MALE   187.0  ...        541.0   NaN   \n",
      "1          AMC          69    YEARS  FEMALE   166.0  ...        471.0 -70.0   \n",
      "2          AMC          54    YEARS    MALE   179.0  ...        471.0  54.0   \n",
      "3          AMC          20    YEARS    MALE     NaN  ...        395.0  73.0   \n",
      "4          AMC          11    YEARS  FEMALE     NaN  ...        412.0   8.0   \n",
      "...        ...         ...      ...     ...     ...  ...          ...   ...   \n",
      "16053      AMC          74    YEARS    MALE   170.0  ...        460.0   NaN   \n",
      "16054      AMC          75    YEARS  FEMALE   176.0  ...        459.0  42.0   \n",
      "16055      AMC          36    YEARS  FEMALE   168.0  ...        418.0  47.0   \n",
      "16056      AMC          77    YEARS  FEMALE   151.0  ...        526.0   NaN   \n",
      "16057      AMC          77    YEARS    MALE     NaN  ...        411.0  63.0   \n",
      "\n",
      "       RAxis  TAxis  QRSCount  ECGSampleBase  SystolicBP  DiastolicBP  \\\n",
      "0       -5.0   18.0      16.0            500         NaN          NaN   \n",
      "1      -70.0  110.0      11.0            500       121.0         74.0   \n",
      "2      171.0   25.0      13.0            500       128.0        112.0   \n",
      "3       54.0   58.0      10.0            500         NaN          NaN   \n",
      "4       81.0  -18.0       9.0            500         NaN          NaN   \n",
      "...      ...    ...       ...            ...         ...          ...   \n",
      "16053   37.0  128.0      14.0            500       135.0         78.0   \n",
      "16054  -26.0   50.0      10.0            500         NaN          NaN   \n",
      "16055   53.0   59.0      10.0            500         NaN          NaN   \n",
      "16056  -86.0   44.0      10.0            500       120.0         80.0   \n",
      "16057   58.0   43.0      13.0            500         NaN          NaN   \n",
      "\n",
      "       AcquisitionDevice  days_after_implant  \n",
      "0                  MAC5K              1403.0  \n",
      "1                  MAC5K              -181.0  \n",
      "2                  MAC55               -93.0  \n",
      "3                  MAC5K              -396.0  \n",
      "4                  MAC5K              2053.0  \n",
      "...                  ...                 ...  \n",
      "16053               CSYS              -892.0  \n",
      "16054              MAC55             -2326.0  \n",
      "16055              MAC55             -2043.0  \n",
      "16056               CSYS             -1632.0  \n",
      "16057              MAC55                 0.0  \n",
      "\n",
      "[16058 rows x 29 columns]\n"
     ]
    }
   ],
   "source": [
    "days_after_implant = calc_days_before_implant(ecg_df, clinical_df)\n",
    "ecg_df['days_after_implant'] = days_after_implant\n",
    "print(ecg_df)"
   ]
  },
  {
   "cell_type": "code",
   "execution_count": 77,
   "metadata": {},
   "outputs": [
    {
     "data": {
      "image/png": "[encoded data removed]",
      "text/plain": [
       "<Figure size 432x288 with 1 Axes>"
      ]
     },
     "metadata": {
      "needs_background": "light"
     },
     "output_type": "display_data"
    }
   ],
   "source": [
    "import seaborn as sns\n",
    "import matplotlib.pyplot as plt\n",
    "\n",
    "ax = sns.countplot(x='NumEcgsTotal', data=clinical_df)\n",
    "ax.set(xticks=np.arange(0,100,10), xticklabels=np.arange(0,100,10))\n",
    "plt.xlabel('Number of ECGs')\n",
    "plt.ylabel('Number of patients')\n",
    "plt.show()"
   ]
  },
  {
   "cell_type": "code",
   "execution_count": 92,
   "metadata": {},
   "outputs": [
    {
     "name": "stdout",
     "output_type": "stream",
     "text": [
      "Total number of ECgs: 16013\n",
      "Number of ECGs before implant: 7062\n",
      "Number of ECGs after implant: 8309\n",
      "Number of ECGs on day of implant: 642\n",
      "16058\n"
     ]
    }
   ],
   "source": [
    "print('Total number of ECgs:', int(clinical_df['NumEcgsTotal'].sum()))\n",
    "print('Number of ECGs before implant:', clinical_df['NumEcgsBeforeImplant'].sum())\n",
    "print('Number of ECGs after implant:', clinical_df['NumEcgsAfterImplant'].sum())\n",
    "print('Number of ECGs on day of implant:', clinical_df['NumEcgsOnImplantDay'].sum())\n",
    "print(len(ecg_df))"
   ]
  },
  {
   "cell_type": "code",
   "execution_count": 80,
   "metadata": {},
   "outputs": [
    {
     "name": "stdout",
     "output_type": "stream",
     "text": [
      "917\n",
      "No     543\n",
      "Yes    372\n",
      "         2\n",
      "Name: Therapy_during_FU, dtype: int64\n"
     ]
    }
   ],
   "source": [
    "print(len(clinical_df))\n",
    "print(clinical_df['Therapy_during_FU'].value_counts())"
   ]
  },
  {
   "cell_type": "code",
   "execution_count": 90,
   "metadata": {},
   "outputs": [
    {
     "name": "stdout",
     "output_type": "stream",
     "text": [
      "917\n",
      "No     625\n",
      "Yes    292\n",
      "Name: Terechte_therapie, dtype: int64\n"
     ]
    },
    {
     "name": "stderr",
     "output_type": "stream",
     "text": [
      "<ipython-input-90-198710245cda>:5: SettingWithCopyWarning: \n",
      "A value is trying to be set on a copy of a slice from a DataFrame\n",
      "\n",
      "See the caveats in the documentation: https://pandas.pydata.org/pandas-docs/stable/user_guide/indexing.html#returning-a-view-versus-a-copy\n",
      "  terechte_clinical_df['Terechte_therapie'][terechte_therapie_idx] = 'Yes'\n"
     ]
    }
   ],
   "source": [
    "terechte_clinical_df = clinical_df.copy()\n",
    "terechte_clinical_df['Terechte_therapie'] = 'No'\n",
    "for i in range(1, 13):\n",
    "    terechte_therapie_idx = terechte_clinical_df[f'Reason_ICD_therapy_{i}'] == 'Terechte therapie'\n",
    "    terechte_clinical_df['Terechte_therapie'][terechte_therapie_idx] = 'Yes'\n",
    "print(len(terechte_clinical_df))\n",
    "print(terechte_clinical_df['Terechte_therapie'].value_counts())"
   ]
  },
  {
   "cell_type": "code",
   "execution_count": null,
   "metadata": {},
   "outputs": [],
   "source": []
  }
 ],
 "metadata": {
  "kernelspec": {
   "display_name": "Python 3",
   "language": "python",
   "name": "python3"
  },
  "language_info": {
   "codemirror_mode": {
    "name": "ipython",
    "version": 3
   },
   "file_extension": ".py",
   "mimetype": "text/x-python",
   "name": "python",
   "nbconvert_exporter": "python",
   "pygments_lexer": "ipython3",
   "version": "3.8.5"
  }
 },
 "nbformat": 4,
 "nbformat_minor": 4
}
