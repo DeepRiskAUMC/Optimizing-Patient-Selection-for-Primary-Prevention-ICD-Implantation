{
 "cells": [
  {https://github.com/DeepRiskAUMC/ECG/blob/main/KYLIAN_DISTANT_to_hdf5.ipynb
   "cell_type": "code",
   "execution_count": 8,
   "metadata": {},
   "outputs": [
    {
     "name": "stdout",
     "output_type": "stream",
     "text": [
      "(2500, 8)\n"
     ]
    }
   ],
   "source": [
    "#ECG TO HDF5 SCRIPT VOOR DISTANT (LEEST XML MAP IN HDF5).\n",
    "\n",
    "import h5py\n",
    "import numpy as np\n",
    "from tqdm import tqdm\n",
    "import array\n",
    "from pathlib import Path\n",
    "import xmltodict\n",
    "import base64\n",
    "import pandas as pd\n",
    "\n",
    "# Fixed ordering of leads\n",
    "LEAD_ORDER = ['I', 'II', 'V1', 'V2', 'V3', 'V4', 'V5', 'V6']\n",
    "\n",
    "def read_xml(filepath):\n",
    "    waveform = {} # Map leadID to lead waveform\n",
    "    with open(filepath, 'rb') as fd:\n",
    "        ecg_dict = xmltodict.parse(fd.read())\n",
    "        waveforms = ecg_dict['RestingECG']['Waveform'][1] # Get the longer recording [1], not median beat\n",
    "        #print(waveforms['LeadData'][0]['LeadSampleCountTotal'])\n",
    "        # For each lead, collect the waveform data\n",
    "        for lead in waveforms['LeadData']:\n",
    "            lead_id = lead['LeadID']\n",
    "            lead_data = lead['WaveFormData']\n",
    "            # Binary to non-binary conversion\n",
    "            lead_b64 = base64.b64decode(lead_data)\n",
    "            data = np.array(array.array('h', lead_b64), dtype='float32')\n",
    "            # Multiply signal by constant to have signal in microvolts\n",
    "            amp_unit_per_bit = float(lead['LeadAmplitudeUnitsPerBit'].replace(',', '.'))\n",
    "            data *= amp_unit_per_bit\n",
    "            # Store lead waveform\n",
    "            waveform[lead_id] = data\n",
    "    # Combine leads\n",
    "    ecg = np.array([waveform[lead_id] for lead_id in LEAD_ORDER]).transpose()\n",
    "    return ecg\n",
    "\n",
    "print(read_xml(Path(r'H:\\Data\\DR_AMC_data\\Complete_data\\DR_DISTANT_anonymized\\DRAUMC2000_1.xml')).shape)\n",
    "\n",
    "def create_hdf5(outpath, group_name, filenames, samples=5000, channels=12):\n",
    "    \"\"\"\n",
    "    Creates/extends a HDF5 file and fills the corresponding group with ECGs\n",
    "        from DICOM files.\n",
    "\n",
    "    Args:\n",
    "        outpath (str): Path for the HDF5 file.\n",
    "        group_name (str): Group or dataset name in the HDF5 file to save ECGs to.\n",
    "        filenames (list): List of paths to the DICOM files.\n",
    "        samples (int): Number of recorded time points to read/store.\n",
    "        channels (int): Number of channels\\leads for the ECGs.\n",
    "    \"\"\"\n",
    "    N = len(filenames)\n",
    "    with h5py.File(outpath, 'a') as f:\n",
    "        # Store ecg data\n",
    "        dset_data = f.create_dataset(group_name, (N, samples, channels), dtype='f4')\n",
    "        for i, fpath in tqdm(enumerate(filenames), total=len(filenames)): #Over alle bestanden heen en probeert in te lezen)\n",
    "            try:\n",
    "                ecg = read_xml(fpath)\n",
    "            except:\n",
    "                print(fpath)\n",
    "                continue\n",
    "            assert ecg.shape == (5000, 8) or ecg.shape == (2500, 8), fpath #Shape is de vorm van matrix, moet ofwel 5000 samples met 8 leads zijn, of 2500 samples met 8 leads)\n",
    "            if len(ecg) == 5000:\n",
    "                ecg = ecg[::2, :] #dit pakt steeds 1 van de 2 tijdspunten over, om te downsampleen naar 2500\n",
    "            dset_data[i, :, :] = ecg[:, :] #3D matrix met aantal ECGs, leads en samples"
   ]
  },
  {
   "cell_type": "code",
   "execution_count": 9,
   "metadata": {},
   "outputs": [],
   "source": [
    "ecg_df = pd.read_csv(r'H:\\Data\\DR_AMC_data\\Complete_data\\DR_DISTANT_ecgs.csv') #overzicht van alle ECGs die er zijn\n",
    "\n",
    "data_root_dir = Path(r'H:\\Data\\DR_AMC_data\\Complete_data\\DR_DISTANT_anonymized') #Map waar alle XML ECGs staan\n",
    "filenames = [data_root_dir / f'{fname}.xml' for fname in ecg_df['Filename']] #Haalt de bestandsnamen eruit en maakt een lijst ervan"
   ]
  },
  {
   "cell_type": "code",
   "execution_count": 13,
   "metadata": {},
   "outputs": [
    {
     "name": "stderr",
     "output_type": "stream",
     "text": [
      "100%|███████████████████████████████████████████████████████████████████████████| 16058/16058 [02:29<00:00, 107.26it/s]\n"
     ]
    }
   ],
   "source": [
    "out_path = Path(r'H:\\Data\\DR_AMC_data\\Complete_data\\distant_ecgs.hdf5') #pad naar waar je HDF5 wilt zetten\n",
    "create_hdf5(out_path, 'data', filenames, samples=2500, channels=8) # binnen HDF5 bestand maak je groepen aan en binnen een groep een matrix, hier wowrdt 1 groepa angemaakt en die heet ' data'\n",
    "#filenames een lijst met de volledige paden naar de XML bestanden"
   ]
  },
  {
   "cell_type": "markdown",
   "metadata": {},
   "source": [
    "NOTE: The following two XML files were unreadable after anonymization. The reason was an unknown character in both cases. These characters were removed manually after which they were readable again.\n",
    "\n",
    "Files:\n",
    "- DRAUMC2163_15.xml\n",
    "- DRAUMC2163_40.xml"
   ]
  },
  {
   "cell_type": "code",
   "execution_count": null,
   "metadata": {},
   "outputs": [],
   "source": []
  }
 ],
 "metadata": {
  "kernelspec": {
   "display_name": "Python 3 (ipykernel)",
   "language": "python",
   "name": "python3"
  },
  "language_info": {
   "codemirror_mode": {
    "name": "ipython",
    "version": 3
   },
   "file_extension": ".py",
   "mimetype": "text/x-python",
   "name": "python",
   "nbconvert_exporter": "python",
   "pygments_lexer": "ipython3",
   "version": "3.9.5"
  }
 },
 "nbformat": 4,
 "nbformat_minor": 4
}
